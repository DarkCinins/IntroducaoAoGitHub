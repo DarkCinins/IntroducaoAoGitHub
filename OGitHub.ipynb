{
 "cells": [
  {
   "cell_type": "markdown",
   "metadata": {},
   "source": [
    "# <center>O GitHub</center>\n",
    "\n",
    "---\n",
    "\n",
    "## História\n",
    "\n",
    "Fundada em 2008 por Chris Wanstrath, PJ Hyett, Tom Preston-Werner, e Scott Chacon, o GitHub é uma plataforma de controle de versão e hospedagem de código, usando Git. Com o objetivo de melhorar e competir com os antigos, mas ativos, sistemas, como Sourceforge e Git, o GitHub simplifica seu uso para novos usuários, sem deixar de lado todo o poder de controle de versão e monitoramento de arquivos e colaboradores com comandos complexos.\n"
   ]
  },
  {
   "cell_type": "markdown",
   "metadata": {},
   "source": [
    "## Objetivos\n",
    "\n",
    "A dificuldade no particionamento de código é um dos maiores problemas ao trabalhar em equipe no desenvolvimento de software (ficando atrás somente da correção de bugs), que torna-se uma \"bola de neve\" quando é necessário avaliar as diferenças entre códigos de programadores. Ao usar um sistema compartilhado de armazenamento de dados, pode-se controlar as edições de arquivos, enquanto a plataforma GitHub inova ao mesclar de maneiras diversas as diferenças entre dois ou mais códigos, permitindo uma rápida avaliação e validação das mudanças propostas.\n",
    "Em paralelo ao versionamento com complexas e diversas opções de mesclagem e validação de códigos, comandos complexos e específicos surgem, dificultando o uso rápido e intuitivo. Com isso, buscando a simplificação do processo, sem excluir todo o poder dos diversos comandos específicos, o GitHub reestrutura o sistema para uso simples de forma rápida, mas ainda exigindo aprofundamento para trabalhos mais complexos.\n"
   ]
  },
  {
   "cell_type": "markdown",
   "metadata": {},
   "source": [
    "## Prós e Contras\n",
    "\n",
    "- <span style=\"color:green\">Hospedagem em nuvem gratuita*</span>\n",
    "- <span style=\"color:green\">Controle de versão</span>\n",
    "- <span style=\"color:green\">Automação em testes e validação de código</span>\n",
    "- <span style=\"color:green\">Interface web intuitiva</span>\n",
    "- <span style=\"color:green\">Diversas bibliotecas e programas de apoio a uso complexo</span>\n",
    "- <span style=\"color:red\">Comandos via terminal*</span>\n",
    "- <span style=\"color:red\">Complexo para uso profissional</span>"
   ]
  }
 ],
 "metadata": {
  "kernelspec": {
   "display_name": "Python 2",
   "language": "python",
   "name": "python2"
  },
  "language_info": {
   "codemirror_mode": {
    "name": "ipython",
    "version": 2
   },
   "file_extension": ".py",
   "mimetype": "text/x-python",
   "name": "python",
   "nbconvert_exporter": "python",
   "pygments_lexer": "ipython2",
   "version": "2.7.15"
  }
 },
 "nbformat": 4,
 "nbformat_minor": 2
}
