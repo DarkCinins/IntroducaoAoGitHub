{
 "cells": [
  {
   "cell_type": "markdown",
   "metadata": {},
   "source": [
    "# O GitHub\n",
    "\n",
    "---\n",
    "\n",
    "## História\n",
    "\n",
    "Fundada em 2008 por Chris Wanstrath, PJ Hyett, Tom Preston-Werner, e Scott Chacon, o GitHub é uma plataforma de controle de versão e hospedagem de código, usando Git. Com o objetivo de melhorar e competir com os antigos, mas ativos, sistemas, como Sourceforge e Git, o GitHub simplifica seu uso para novos usuários, sem deixar de lado todo o poder de controle de versão e monitoramento de arquivos e colaboradores com comandos complexos.\n"
   ]
  },
  {
   "cell_type": "markdown",
   "metadata": {},
   "source": [
    "## Objetivos\n",
    "\n",
    "A dificuldade no versionamento de código é um dos maiores problemas ao trabalhar em equipe no desenvolvimento de software (ficando atrás somente da correção de bugs), que torna-se uma \"bola de neve\" quando é necessário avaliar as diferenças entre códigos de programadores. Ao usar um sistema compartilhado de armazenamento de dados, pode-se controlar as edições de arquivos, enquanto a plataforma GitHub inova ao mesclar de maneiras diversas as diferenças entre dois ou mais códigos, permitindo uma rápida avaliação e validação das mudanças propostas.\n",
    "Em paralelo ao versionamento com complexas e diversas opções de mesclagem e validação de códigos, comandos complexos e específicos surgem, dificultando o uso rápido e intuitivo. Com isso, buscando a simplificação do processo, sem excluir todo o poder dos diversos comandos específicos, o GitHub reestrutura o sistema para uso simples de forma rápida, mas ainda exigindo aprofundamento para trabalhos mais complexos.\n"
   ]
  },
  {
   "cell_type": "markdown",
   "metadata": {},
   "source": [
    "## Prós e Contras\n",
    "\n",
    "1. <span style=\"color:green\">Prós</span>:\n",
    "    - Hospedagem em nuvem gratuita*\n",
    "    - Controle de versão\n",
    "    - Automação em testes e validação de código\n",
    "    - Interface web intuitiva\n",
    "    - Diversas bibliotecas e programas de apoio a uso complexo\n",
    "    \n",
    "1. <span style=\"color:red\">Contras</span>:\n",
    "    - Comandos via terminal*\n",
    "    - Complexo para uso profissional"
   ]
  }
 ],
 "metadata": {
  "kernelspec": {
   "display_name": "Bash",
   "language": "bash",
   "name": "bash"
  },
  "language_info": {
   "codemirror_mode": "shell",
   "file_extension": ".sh",
   "mimetype": "text/x-sh",
   "name": "bash"
  }
 },
 "nbformat": 4,
 "nbformat_minor": 2
}
