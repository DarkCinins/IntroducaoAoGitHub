{
 "cells": [
  {
   "cell_type": "markdown",
   "metadata": {},
   "source": [
    "# Usando Remotos\n",
    "\n",
    "---\n",
    "\n",
    "## Estrutura do repositório: Origin vs Upstream\n",
    "\n",
    "Para colaborar com códigos de outros usuários, pode-se fazer uma alteração pelo próprio diretório, o que pouparia bastante tempo. Nesse procedimento, faríamos exatamente a mesma coisa que fizemos ao criar o repositório pessoal: usaríamos o comando `git clone` com o link SSH ou HTTPS e faríamos um `git push` para enviar os arquivos. Mas isso seria péssimo por diversos motivos:\n",
    "\n",
    "- Controle de versão\n",
    "- Incompatibilidade entre arquivos\n",
    "- Sobreescrita de códigos essenciais\n",
    "\n",
    "Por isso, para evitar esses possíveis problemas, em troca de uma leve adição na complexidade do uso do GitHub, faremos algo chamado **Fork**.\n",
    "O fork é simplesmente uma cópia do diretório do outro usuário no seu pŕoprio diretório no Github. Ou seja, ao invés de fazer um `git clone` que copiaria aquele repositório em seu repositório local, o fork faria um `git clone` em seu repositório na nuvem. Agora, teremos três locais diferentes sincronizados entre si: O local, referente aos arquivos em seu computador; a origem ou origin, que serão os arquivos em sua conta no GitHub; o remoto ou upstream, com os arquivos originais de onde todos os arquivos vieram."
   ]
  },
  {
   "cell_type": "markdown",
   "metadata": {},
   "source": [
    "## Clonando repositórios\n",
    "\n",
    "Na prática, para fazer um fork dos arquivos de algum repositório, vá até o repositório pelo site do GitHub e clique no botão **\"fork\"** na parte superior direita da tela, bem próximo ao ícone da conta conectada. Se solicitado logo em seguida, selecione como destino o seu usuário. Após isso, repare que o link que você estará no navegador será agora na sua conta, justo porque os arquivos que estavam naquele repositório, foram copiados para a sua conta.\n",
    "Depois disso, faça um `git clone` em seu repositório normalmente, como explicado na parte [anterior](Basico.ipynb) do tutorial. \n",
    "Para visualização do procedimento, criamos mais um repositório hipotético somente para esse tutorial.\n"
   ]
  },
  {
   "cell_type": "code",
   "execution_count": 10,
   "metadata": {},
   "outputs": [
    {
     "name": "stdout",
     "output_type": "stream",
     "text": [
      "Cloning into 'Exemplo'...\n",
      "remote: Counting objects: 3, done.\u001b[K\n",
      "remote: Total 3 (delta 0), reused 0 (delta 0), pack-reused 0\u001b[K\n",
      "Receiving objects: 100% (3/3), done.\n",
      "Checking connectivity... done.\n"
     ]
    }
   ],
   "source": [
    "git clone git@github.com:MateusBMP/Exemplo.git"
   ]
  },
  {
   "cell_type": "markdown",
   "metadata": {},
   "source": [
    "## Atualização de repositório local\n",
    "\n",
    "Como os arquivos agora estão em seu repositório, toda e qualquer alteração que for feita em seu computador pode ser enviada normalmente para seu repositório na nuvem, da mesma forma que fizemos antes. Mas, justo por estar em sua conta no GitHub, quaisquer alterações feitas no repositório original, aquele que foi feito o fork, só serão enviados para seu repositório pessoal quando solicitado. Isso acontece pelo mesmo motivo que precisamos enviar manualmente para a nuvem os arquivos que editamos no computador: Manter a reprodutibilidade e organização, sem perder nenhum trabalho por códigos sobreescrevidos.\n",
    "Então, vamos primeiro falar para o repositório local, no computador, que o repositório que estamos também poderá enviar e receber informações de outro repositório: o upstream, repositório que fizemos o fork. Para isso, antes veremos quais repositórios na nuvem o repositório local está sincronizado para enviar e receber arquivos usando o comando `git remote -v`:\n"
   ]
  },
  {
   "cell_type": "code",
   "execution_count": 21,
   "metadata": {},
   "outputs": [
    {
     "name": "stdout",
     "output_type": "stream",
     "text": [
      "origin\tgit@github.com:MateusBMP/Exemplo.git (fetch)\n",
      "origin\tgit@github.com:MateusBMP/Exemplo.git (push)\n"
     ]
    }
   ],
   "source": [
    "git remote -v"
   ]
  },
  {
   "cell_type": "markdown",
   "metadata": {},
   "source": [
    "Veja que temos um repositório chamado **\"origin\"** que pode receber (fetch) dados de \"git@github.com:MateusBMP/Exemplo.git\" e enviar dados (push) também para o mesmo link. Repare também que esse link é o mesmo link que escrevemos no comando `git clone`.\n",
    "Agora, adicionaremos mais um repositório na nuvem para o repositório local poder receber e enviar arquivos usando o comando `git remote add`:"
   ]
  },
  {
   "cell_type": "code",
   "execution_count": 22,
   "metadata": {},
   "outputs": [],
   "source": [
    "git remote add upstream git@github.com:IntroducaoAoGitHub/Exemplo.git"
   ]
  },
  {
   "cell_type": "markdown",
   "metadata": {},
   "source": [
    "Aqui, adicionamos mais um repositório remoto ao repositório local, cujo nome será **\"upstream\"** e seu link \"git@github.com:IntroducaoAoGitHub/Exemplo.git\", ou seja, o repositório original que realizamos o fork. Este link é obtido da mesma maneira que obtemos o link do repositório pessoal: clicando no botão \"Clone or download\" presente na página do repositório.\n",
    "\n",
    "Então vejamos quais são os repositórios agora sincronizados:"
   ]
  },
  {
   "cell_type": "code",
   "execution_count": 32,
   "metadata": {},
   "outputs": [
    {
     "name": "stdout",
     "output_type": "stream",
     "text": [
      "origin\tgit@github.com:MateusBMP/Exemplo.git (fetch)\n",
      "origin\tgit@github.com:MateusBMP/Exemplo.git (push)\n",
      "upstream\tgit@github.com:IntroducaoAoGitHub/Exemplo.git (fetch)\n",
      "upstream\tgit@github.com:IntroducaoAoGitHub/Exemplo.git (push)\n"
     ]
    }
   ],
   "source": [
    "git remote -v"
   ]
  },
  {
   "cell_type": "markdown",
   "metadata": {},
   "source": [
    "Veja que agora temos o repositório chamado **\"upstream\"** que acabamos de adicionar. Isso significa que poderemos atualizar nosso repositório local com as novas modificações feitas no repositório original (upstream). Mas, antes de fazer isso, precisamos entender um pouco melhor o que acabamos de fazer.\n",
    "Ao adicionar um novo repositório dessa maneira, estamos fazendo um `git clone` invisível daquele repositório, o que, na prática, significa que acabamos de copiar os arquivos daquele repositório para nosso computador, igual ao `git clone`, mas não podemos vê-los como fazemos com os arquivos que copiamos do nosso repositório pessoal em nossa conta. Por isso, esse \"repositório fantasma\" precisa também receber quaisquer alterações que forem feitas no repositório original que está no GitHub e, para isso, usaremos o comando `git fetch` falando para o repositório remoto chamado **\"upstream\"** ser atualizado, ou seja, ficar idêntico ao repositório na nuvem que está linkado:\n"
   ]
  },
  {
   "cell_type": "code",
   "execution_count": 40,
   "metadata": {},
   "outputs": [
    {
     "name": "stdout",
     "output_type": "stream",
     "text": [
      "remote: Counting objects: 1, done.\u001b[K\n",
      "remote: Total 1 (delta 0), reused 0 (delta 0), pack-reused 0\u001b[K\n",
      "Unpacking objects: 100% (1/1), done.\n",
      "From github.com:IntroducaoAoGitHub/Exemplo\n",
      "   bee7d9d..d2189be  master     -> upstream/master\n"
     ]
    }
   ],
   "source": [
    "git fetch upstream"
   ]
  },
  {
   "cell_type": "markdown",
   "metadata": {},
   "source": [
    "De forma resumida, a saída compara os arquivos diferentes entre o repositório original e esse remoto chamado **\"upstream\"** e, logo em seguida, mescla-os para ficarem iguais. \n",
    "Agora, enviaremos esses arquivos que estão no upstream para o repositório local do computador usando o comando `git merge`. Esse comando mescla os arquivos que estão em um remoto com os arquivos do seu computador, precisando somente que se escreva qual o remoto escolhido.\n"
   ]
  },
  {
   "cell_type": "code",
   "execution_count": 41,
   "metadata": {},
   "outputs": [
    {
     "name": "stdout",
     "output_type": "stream",
     "text": [
      "Updating 63c32b0..d2189be\n",
      "Fast-forward\n"
     ]
    }
   ],
   "source": [
    "git merge upstream/master"
   ]
  },
  {
   "cell_type": "markdown",
   "metadata": {},
   "source": [
    "Para esse comando em especial, escrevemos **\"/master\"** junto ao nome do remoto escolhido pois estamos mesclando na verdade a àrea de trabalho atual de nosso repositório local com a área de trabalho desejada do remoto. Não explicamos muito sobre essas àreas de trabalho para simplificar o aprendizado, mas caso tenha interesse em aprofundar-se, posso recomendar a documentação oficial sobre [branch](https://git-scm.com/book/pt-br/v1/Ramifica%C3%A7%C3%A3o-Branching-no-Git-B%C3%A1sico-de-Branch-e-Merge), que é justo como é chamada a área de trabalho.\n",
    "Lembre que toda alteração está sendo feita somente no repositório local, ou seja, no computador, e, por isso, deve ser submetida ao seu repositório na nuvem. Para verificar isso, use o comando `git status`."
   ]
  },
  {
   "cell_type": "code",
   "execution_count": 42,
   "metadata": {},
   "outputs": [
    {
     "name": "stdout",
     "output_type": "stream",
     "text": [
      "On branch master\n",
      "Your branch is ahead of 'origin/master' by 1 commit.\n",
      "  (use \"git push\" to publish your local commits)\n",
      "nothing to commit, working directory clean\n"
     ]
    }
   ],
   "source": [
    "git status"
   ]
  },
  {
   "cell_type": "markdown",
   "metadata": {},
   "source": [
    "Repare que a saída do comando é exatamente a mesma do tópico \"Sincronização de repositórios\", na parte [anterior](Basico.ipynb) desse tutorial. Isso significa que o comando `git merge` fez um `git add` e, logo em seguinda, um `git commit` de forma automática, então, basta enviar as mudanças para a nuvem usando o comando `git push`."
   ]
  },
  {
   "cell_type": "code",
   "execution_count": 43,
   "metadata": {},
   "outputs": [
    {
     "name": "stdout",
     "output_type": "stream",
     "text": [
      "Counting objects: 1, done.\n",
      "Writing objects: 100% (1/1), 632 bytes | 0 bytes/s, done.\n",
      "Total 1 (delta 0), reused 0 (delta 0)\n",
      "To git@github.com:MateusBMP/Exemplo.git\n",
      "   63c32b0..d2189be  master -> master\n"
     ]
    }
   ],
   "source": [
    "git push"
   ]
  },
  {
   "cell_type": "markdown",
   "metadata": {},
   "source": [
    "## Aplicando a remotos\n",
    "\n",
    "Agora que sabemos como atualizar nosso repositório local com o repositório remoto, podemos também enviar alterações do repositório local para o remoto. A plataforma GitHub já auxilia a fazer isso de maneira rápida e intuitiva no próprio site do repositório pessoal.\n",
    "Na parte esquerda da tela, na mesma linha em que se encontra o botão _\"Clone or download\"_, há o botão _\"New pull request\"_ que, ao clicar, as diferenças entre o seu repositório e o repostório original serão listadas. Siga as informações e escreva um nome para sua solicitação de alteração e, na legenda, detalhe quais as alterações feitas e tudo que for necessário para que os responsáveis pelo repositório entendam o que foi feito e porque foi feito.\n"
   ]
  }
 ],
 "metadata": {
  "kernelspec": {
   "display_name": "Bash",
   "language": "bash",
   "name": "bash"
  },
  "language_info": {
   "codemirror_mode": "shell",
   "file_extension": ".sh",
   "mimetype": "text/x-sh",
   "name": "bash"
  }
 },
 "nbformat": 4,
 "nbformat_minor": 2
}
