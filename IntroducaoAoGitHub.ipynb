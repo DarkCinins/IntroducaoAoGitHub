{
 "cells": [
  {
   "cell_type": "markdown",
   "metadata": {},
   "source": [
    "# Introdução ao GitHub\n",
    "\n",
    "\n",
    "**[Mateus Barros de Moura Pereira](http://lattes.cnpq.br/7887124088729940)** - mbmp@ic.ufal.br\n",
    "\n",
    "----\n",
    "\n",
    "\n",
    "# Tópicos\n",
    "\n",
    "1. [**O GitHub**](OGitHub.ipynb)\n",
    "    1. História\n",
    "    1. Objetivos\n",
    "    1. Prós e Contras\n",
    "1. [**Básico**](Basico.ipynb)\n",
    "    1. Estrutura do repositório: Local vs Cloud\n",
    "    1. Iniciando repositórios\n",
    "    1. Adição e edição de arquivos\n",
    "    1. Sincronização de repositórios\n",
    "1. **Usando remotos**\n",
    "    1. Estrutura do repositório: Origin vs Upstream\n",
    "    1. Clonando repositórios\n",
    "    1. Atualização de repositório local\n",
    "    1. Aplicando a remotos\n",
    "1. **Boas práticas**\n",
    "    1. Documentação\n",
    "    1. Comentários e atualizações de códigos\n",
    "    1. Ignorando arquivos\n",
    "    1. Ramificação de código\n",
    "    \n",
    "---"
   ]
  },
  {
   "cell_type": "code",
   "execution_count": null,
   "metadata": {},
   "outputs": [],
   "source": []
  }
 ],
 "metadata": {
  "kernelspec": {
   "display_name": "Python 2",
   "language": "python",
   "name": "python2"
  },
  "language_info": {
   "codemirror_mode": {
    "name": "ipython",
    "version": 2
   },
   "file_extension": ".py",
   "mimetype": "text/x-python",
   "name": "python",
   "nbconvert_exporter": "python",
   "pygments_lexer": "ipython2",
   "version": "2.7.15"
  }
 },
 "nbformat": 4,
 "nbformat_minor": 1
}
