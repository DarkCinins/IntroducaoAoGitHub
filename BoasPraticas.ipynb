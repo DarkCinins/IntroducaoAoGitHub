{
 "cells": [
  {
   "cell_type": "markdown",
   "metadata": {},
   "source": [
    "# Boas Práticas\n",
    "\n",
    "---\n",
    "\n",
    "## Documentação\n",
    "\n",
    "É muito natural, depois de obter a prática e conhecimento, que reconheçamos cada trecho do código escrito, incluindo qual o fluxo de execução e o que ele faz. Mas, no Github, são muitos os usuários que verão seu código e tentarão aprender algo com ele e, por isso, deve-se prezar pela boa legibilidade e explicações detalhadas. Veja que o objetivo não é nem mesmo seguir paradigmas da linguagem ou recomendações de padronizações, mas sim manter a organização e explicar o essencial.\n",
    "\n",
    "A primeira coisa a se fazer é explicar como executar o código, o que parece muito intuitivo para quem o escreveu, mas não é para muitos dos outros leitores. Por isso, explique como deve ser compilado, se ele precisa de alguma entrada específica e, se algo essencial não for explicado, pelo menos referencie um site ou tutorial que explique como fazer aquilo.\n",
    "\n",
    "O mesmo serve para o código, onde deve haver uma explicação de por onde deve ser iniciado, o que ele recebe como entrada e o que se espera como saída. Manter a organização ajuda bastante não somente na estética, mas o rápido reconhecimento de bugs e correção dos mesmos, ainda mais se for necessária a ajuda de outra pessoa que antes de mais nada precisará entender o código.\n",
    "\n",
    "Para que isso seja feito, muitas são as técnicas, desde comentários em cabeçalhos ou funções, ou até mesmo entre os controladores, mas aqui traremos um ambiente em especial que o próprio Github nos dá para auxiliar nisso: o arquivo **README.md**. Esse é escrito em [Markdown](https://daringfireball.net/projects/markdown/basics), uma linguagem de marcação bastante comum e semelhante ao HTML, e é mostrado na página principal do repositório no GitHub. Por ele possuir esse destaque, é muito usado como leitura inicial do repositório. Algumas das coisas que recomendo que se escreva nele:\n",
    "    - O que o código faz;\n",
    "    - Como ele funciona;\n",
    "    - Como compilar e executar;\n",
    "    - Colaboradores.\n",
    "    \n",
    "São muitas as possibilidades, mas desde que nele haja o básico para que qualquer um possa usar o código em questão, isso já basta.\n"
   ]
  },
  {
   "cell_type": "markdown",
   "metadata": {},
   "source": [
    "## Comentários e atualizações de códigos\n",
    "\n",
    "Seguindo o mesmo princípio da documentação e informações básicas no **README.md**, escrever comentários nos códigos se torna essencial em alguns casos. Como cada programador é único em seu fluxo de raciocínio, explicar o funcionamento do código é importante para que não hajam dificuldades na hora de compartilhar o código, tendo como algumas vantagens:\n",
    "    - Velocidade na interpretação do funcionamento do código;\n",
    "    - Ágil detecção de bugs;\n",
    "    - Correção de bugs que evitam interferir em outras linhas de execução.\n",
    "    \n",
    "Por isso, estabeleça o padrão que preferir para organizar seu código e escreva comentários onde acreditar que seja necessário. Também use o bom senso e escolha onde escrever comentários, pois um programa com muitos comentários entre as linhas de código também não significa melhor compreensão. Na dúvida, sempre mostre o código a outros programamdores e, se necessário, explique um pouco do funcionamento dele, pois assim você terá ideia de onde pode melhorar a legibilidade do mesmo e onde acrescentar ou retirar comentários.\n",
    "\n",
    "Esta recomendação em especial também vale para alterações no código. Quando efetuamos um `git commit` temos um espaço reservado para comentar a alteração feita, espaço esse curto e, por isso, deve ser bem escrito. Mesmo assim, muitas vezes somente algumas palavras não bastam para explicar o que foi alterado e porque foi alterado. Por isso a própria plataforma GitHub tem um espaço reservado para discutir uma alteração.\n",
    "\n",
    "Para isso, clique no nome do commit do(s) arquivo(s), na página do repositório, logo ao lado do nome do arquivo; ou clique no botão **commits** logo abaixo do nome do repositório e depois no commit que desejar. Nesse espaço, no fim da página, há um local para enviar mensagens para aquele commit em especial, que pode ser escrito em Markdown, igualmente ao **README.md**. Use e abuse desse local para explicar tudo o que for preciso e abrir discussões sobre o mesmo.\n",
    "\n",
    "Mais uma recomendação que afeta justo a recomendação anterior é organizar cada `git commit` com seu respectivo arquivo. Ou seja, ao efetuar um `git add`, selecione os arquivos que deverão ficar juntos naquele mesmo `git commit`, assim alterações ficam organizadas e você poderá discutir exclusivamente sobre cada uma delas. Aqui também segue o bom senso para saber quais alterações são semelhantes entre si e quais merecem um `git commit` único.\n"
   ]
  },
  {
   "cell_type": "markdown",
   "metadata": {},
   "source": [
    "## Ignorando arquivos\n",
    "\n",
    "Principalmente ao ser trabalhar com IDEs ou afins, criamos arquivos na pasta de nosso repositório Git que não queremos que sejam enviados ao GitHub. Isso também ocorre caso façamos testes unitários, usemos algum sistema operacional em especial ou até mesmo se adicionamos arquivos-teste ao diretório. Para solução desse pequeno problema, o GitHub trabalha com um arquivo específico chamado \".gitignore\".\n",
    "\n",
    "Esse arquivo leva o nome de todos os arquivos que não devem ser adicionados na lista de alterações da varredura de arquivos do repositório Git. De uma maneira simples, ele faz com que os arquivos ali escritos fiquem invisíveis para o GitHub e não sejam enviados ao repositório na nuvem.\n",
    "\n",
    "Para usa-lo, crie um arquivo, nomeie-o como \".gitignore\" e envie-o ao repositório na nuvem como qualquer outro código. Nele, escreva o nome dos arquivos ou extensões que deseja que sejam ignorados. Sua formatação é simples:\n",
    "    - Comentários são precedidos de `#`;\n",
    "    - Uso de quebra de linha para fim de leitura;\n",
    "    - Escreva `nome_do_arquivo.extensão` para ignorar um arquivo;\n",
    "    - Escreva `nome_da_pasta/` para ignorar uma pasta;\n",
    "    - Escreva `*.extensão` para ignorar qualquer arquivo com aquela extensão.\n",
    "    \n",
    "Existem outras formatações que podem ser encontradas na [documentação](https://git-scm.com/docs/gitignore) oficial e, caso queira automatizar isso, pode usar diversos sites que auxiliam no processo de maneira muito simples, como o [gitignore.io](https://www.gitignore.io/).\n"
   ]
  },
  {
   "cell_type": "markdown",
   "metadata": {},
   "source": [
    "## Ramificação de código\n",
    "\n",
    "Como já bastante visto anteriormente, problemas de incompatibilidade entre códigos pode ocorrer facilmente quando muitos são os programadores envolvidos em um único projeto. \n",
    "\n",
    "Agora imagine se uma alteração foi feita no diretório original de um fork que você tenha feito. Então, para que você continue a desenvolver seu código, é importante puxar as alterações e colocar em seu próprio repositório. Mas quando puxamos um mesmo arquivo em que estamos desenvolvendo, o que ocorrerá ao efetuar o `git merge` é uma reescrita do que você já escreveu de novo, o que faria tudo ser perdido.\n",
    "\n",
    "Imagine também se alguma alteração grande precise ser feita, o que exigirá dias de programação e inúmeros `git push` com ainda mais `git commit`. Caso a nova funcionalidade seja finalizada e passe nos testes, não significa que ela gere novos bugs ou resultados indesejados. Mas, o que fazer para poder voltar a uma versão anterior àquela funcionalidade nova?\n",
    "\n",
    "Tudo isso pode ser evitado e até resolvido em diversos momentos ao usar uma `git branch`. Essa usa o mesmo conceito da relação entre `git clone` e `git remote`, mas agora relacionado a área de trabalho. Lembre da saída do comando `git status`:"
   ]
  },
  {
   "cell_type": "code",
   "execution_count": 8,
   "metadata": {},
   "outputs": [
    {
     "name": "stdout",
     "output_type": "stream",
     "text": [
      "On branch master\n",
      "Your branch is up-to-date with 'origin/master'.\n",
      "nothing to commit, working directory clean\n"
     ]
    }
   ],
   "source": [
    "git status"
   ]
  },
  {
   "cell_type": "markdown",
   "metadata": {},
   "source": [
    "Logo no início da saída do comando, ele avisa que estamos na branch **master**, ou seja, estamos vendo os arquivos presentes na área de trabalho desse mesmo nome. Como dito, a branch se assemelha a um remoto, então os arquivos de uma branch estão ocultos, mas, diferente do remoto, podemos acessa-los. Para ver de maneira mais prática, criaremos uma nova branch, mas antes, verificar quais as atuais branchs:"
   ]
  },
  {
   "cell_type": "code",
   "execution_count": 9,
   "metadata": {},
   "outputs": [
    {
     "name": "stdout",
     "output_type": "stream",
     "text": [
      "* \u001b[32mmaster\u001b[m d2189be Merge pull request #2 from MateusBMP/master\n"
     ]
    }
   ],
   "source": [
    "git branch -v"
   ]
  },
  {
   "cell_type": "markdown",
   "metadata": {},
   "source": [
    "Por padrão, o git só cria uma única branch, a branch **master**, e como não criamos nenhuma, só temos ela mesmo. Então criaremos uma nova branch."
   ]
  },
  {
   "cell_type": "code",
   "execution_count": 11,
   "metadata": {},
   "outputs": [],
   "source": [
    "git branch novaBranch"
   ]
  },
  {
   "cell_type": "markdown",
   "metadata": {},
   "source": [
    "E, novamente, verificar quais as branchs existentes."
   ]
  },
  {
   "cell_type": "code",
   "execution_count": 12,
   "metadata": {},
   "outputs": [
    {
     "name": "stdout",
     "output_type": "stream",
     "text": [
      "* \u001b[32mmaster    \u001b[m d2189be Merge pull request #2 from MateusBMP/master\n",
      "  novaBranch\u001b[m d2189be Merge pull request #2 from MateusBMP/master\n"
     ]
    }
   ],
   "source": [
    "git branch -v"
   ]
  },
  {
   "cell_type": "markdown",
   "metadata": {},
   "source": [
    "Repare que ambas estão com o mesmo estado **d2189be**, mas não se preocupe em entender a fundo isso, só veja que são iguais.\n",
    "\n",
    "Agora, usaremos um novo comando chamado `git checkout` para alterar entre as branchs:"
   ]
  },
  {
   "cell_type": "code",
   "execution_count": 14,
   "metadata": {},
   "outputs": [
    {
     "name": "stdout",
     "output_type": "stream",
     "text": [
      "Switched to branch 'novaBranch'\n"
     ]
    }
   ],
   "source": [
    "git checkout novaBranch"
   ]
  },
  {
   "cell_type": "code",
   "execution_count": 15,
   "metadata": {},
   "outputs": [
    {
     "name": "stdout",
     "output_type": "stream",
     "text": [
      "On branch novaBranch\n",
      "nothing to commit, working directory clean\n"
     ]
    }
   ],
   "source": [
    "git status"
   ]
  },
  {
   "cell_type": "markdown",
   "metadata": {},
   "source": [
    "Repare que agora a área de trabalho em que estamos é a **novaBranch**, não mais a **master**. Para visualizar de forma mais clara, abra o diretório desse documento, que no caso desse tutorial é o mesmo criado na parte [\"Clonando repositórios\"](UsandoRemotos.ipynb), e crie um novo arquivo e envie-o normalmente."
   ]
  },
  {
   "cell_type": "code",
   "execution_count": 16,
   "metadata": {},
   "outputs": [
    {
     "name": "stdout",
     "output_type": "stream",
     "text": [
      "On branch novaBranch\n",
      "Untracked files:\n",
      "  (use \"git add <file>...\" to include in what will be committed)\n",
      "\n",
      "\t\u001b[31mexemplo.c\u001b[m\n",
      "\n",
      "nothing added to commit but untracked files present (use \"git add\" to track)\n"
     ]
    }
   ],
   "source": [
    "git status"
   ]
  },
  {
   "cell_type": "code",
   "execution_count": 17,
   "metadata": {},
   "outputs": [],
   "source": [
    "git add exemplo.c"
   ]
  },
  {
   "cell_type": "code",
   "execution_count": 18,
   "metadata": {},
   "outputs": [
    {
     "name": "stdout",
     "output_type": "stream",
     "text": [
      "[novaBranch 225cede] Adicionando novo arquivo\n",
      " 1 file changed, 0 insertions(+), 0 deletions(-)\n",
      " create mode 100644 exemplo.c\n"
     ]
    }
   ],
   "source": [
    "git commit -m \"Adicionando novo arquivo\""
   ]
  },
  {
   "cell_type": "code",
   "execution_count": 19,
   "metadata": {},
   "outputs": [
    {
     "name": "stdout",
     "output_type": "stream",
     "text": [
      "Everything up-to-date\n"
     ]
    }
   ],
   "source": [
    "git push"
   ]
  },
  {
   "cell_type": "markdown",
   "metadata": {},
   "source": [
    "Então veja agora quais branchs há no repositório e qual o estado delas."
   ]
  },
  {
   "cell_type": "code",
   "execution_count": 20,
   "metadata": {},
   "outputs": [
    {
     "name": "stdout",
     "output_type": "stream",
     "text": [
      "  master    \u001b[m d2189be Merge pull request #2 from MateusBMP/master\n",
      "* \u001b[32mnovaBranch\u001b[m 225cede Adicionando novo arquivo\n"
     ]
    }
   ],
   "source": [
    "git branch -v"
   ]
  },
  {
   "cell_type": "markdown",
   "metadata": {},
   "source": [
    "Agora, graças ao novo `git push`, o estado da branch **master** é diferente da branch **novaBranch**. O mais interessante disso é que, ao acessar uma branch diferente, os arquivos mostrados na pasta do computador também se alterarão, igualmente aos arquivos mostrados na IDE ou editor de texto que você usar. Experimente isso:"
   ]
  },
  {
   "cell_type": "code",
   "execution_count": 21,
   "metadata": {},
   "outputs": [
    {
     "name": "stdout",
     "output_type": "stream",
     "text": [
      "\u001b[0m\u001b[01;32mexemplo.c\u001b[0m  \u001b[01;32mREADME.md\u001b[0m\n"
     ]
    }
   ],
   "source": [
    "ls"
   ]
  },
  {
   "cell_type": "code",
   "execution_count": 22,
   "metadata": {},
   "outputs": [
    {
     "name": "stdout",
     "output_type": "stream",
     "text": [
      "Switched to branch 'master'\n",
      "Your branch is up-to-date with 'origin/master'.\n"
     ]
    }
   ],
   "source": [
    "git checkout master"
   ]
  },
  {
   "cell_type": "code",
   "execution_count": 23,
   "metadata": {},
   "outputs": [
    {
     "name": "stdout",
     "output_type": "stream",
     "text": [
      "\u001b[0m\u001b[01;32mREADME.md\u001b[0m\n"
     ]
    }
   ],
   "source": [
    "ls"
   ]
  },
  {
   "cell_type": "markdown",
   "metadata": {},
   "source": [
    "Mas, como qualquer alteração feita, ela fica somente no repositório local. Por isso devemos envia-la para o repositório na nuvem e, para isso, usaremos o comando `git push`, mas agora falando para quais remoto e branch enviar. Caso esqueça qual o remoto, use o comando `git remote -v`, apresentado na parte [\"Atualização de repositório local\"](UsandoRemotos.ipynb)."
   ]
  },
  {
   "cell_type": "code",
   "execution_count": 90,
   "metadata": {},
   "outputs": [
    {
     "name": "stdout",
     "output_type": "stream",
     "text": [
      "Counting objects: 11, done.\n",
      "Delta compression using up to 8 threads.\n",
      "Compressing objects: 100% (11/11), done.\n",
      "Writing objects: 100% (11/11), 3.04 KiB | 0 bytes/s, done.\n",
      "Total 11 (delta 5), reused 0 (delta 0)\n",
      "remote: Resolving deltas: 100% (5/5), completed with 1 local object.\u001b[K\n",
      "remote: \n",
      "remote: Create a pull request for 'novaBranch' on GitHub by visiting:\u001b[K\n",
      "remote:      https://github.com/MateusBMP/Exemplo/pull/new/novaBranch\u001b[K\n",
      "remote: \n",
      "To git@github.com:MateusBMP/Exemplo.git\n",
      " * [new branch]      novaBranch -> novaBranch\n"
     ]
    }
   ],
   "source": [
    "git push origin novaBranch"
   ]
  },
  {
   "cell_type": "markdown",
   "metadata": {},
   "source": [
    "Vejamos que na saída do comando sugere-se que sejam feitos **pull request** na página do diretório, da mesma forma que fazemos **pull request** para um remoto. Por isso, caso queira enviar alterações de um branch para outro, faça exatamente a mesma coisa que se faz ao enviar alterações para um remoto: Faça um **pull request** na págida do repositório.\n",
    "\n",
    "Também, após fazer isso, será necessário atualizar o repositório local com as alterações feitas no repositório na nuvem e, para isso, basta usar o comando `git pull` no branch desejado."
   ]
  },
  {
   "cell_type": "code",
   "execution_count": 92,
   "metadata": {},
   "outputs": [
    {
     "name": "stdout",
     "output_type": "stream",
     "text": [
      "remote: Enumerating objects: 1, done.\u001b[K\n",
      "remote: Counting objects: 100% (1/1), done.\u001b[K\n",
      "remote: Total 1 (delta 0), reused 0 (delta 0), pack-reused 0\u001b[K\n",
      "Unpacking objects: 100% (1/1), done.\n",
      "From github.com:MateusBMP/Exemplo\n",
      "   32372b9..e4cea1f  master     -> origin/master\n",
      "Updating 32372b9..e4cea1f\n",
      "Fast-forward\n"
     ]
    }
   ],
   "source": [
    "git pull"
   ]
  },
  {
   "cell_type": "markdown",
   "metadata": {},
   "source": [
    "Esse comando faz a mesma coisa que o `git fetch` e depois `git merge`, como explicado anteriormente em [\"Usando Remotos\"](UsandoRemotos.ipynb), mas como não estamos pegando dados de um remoto, fica mais fácil executar o `git pull` que faz tudo isso automaticamente."
   ]
  }
 ],
 "metadata": {
  "kernelspec": {
   "display_name": "Bash",
   "language": "bash",
   "name": "bash"
  },
  "language_info": {
   "codemirror_mode": "shell",
   "file_extension": ".sh",
   "mimetype": "text/x-sh",
   "name": "bash"
  }
 },
 "nbformat": 4,
 "nbformat_minor": 2
}
