{
 "cells": [
  {
   "cell_type": "markdown",
   "metadata": {},
   "source": [
    "# Boas Práticas\n",
    "\n",
    "---\n",
    "\n",
    "## Documentação\n",
    "\n",
    "É muito natural, depois de obter a prática e conhecimento, que reconheçamos cada trecho do código escrito, incluindo qual o fluxo de execução e o que ele faz. Mas, no Github, são muitos os usuários que verão seu código e tentarão aprender algo com ele e, por isso, deve-se prezar pela boa legibilidade e explicações detalhadas. Veja que o objetivo não é nem mesmo seguir paradigmas da linguagem ou recomendações de padronizações, mas sim manter a organização e explicar o essencial.\n",
    "\n",
    "A primeira coisa a se fazer é explicar como executar o código, o que parece muito intuitivo para quem o escreveu, mas não é para muitos dos outros leitores. Por isso, explique como deve ser compilado, se ele precisa de alguma entrada específica e, se algo essencial não for explicado, pelo menos referencie um site ou tutorial que explique como fazer aquilo.\n",
    "\n",
    "O mesmo serve para o código, onde deve haver uma explicação de por onde deve ser iniciado, o que ele recebe como entrada e o que se espera como saída. Manter a organização ajuda bastante não somente na estética, mas o rápido reconhecimento de bugs e correção dos mesmos, ainda mais se for necessária a ajuda de outra pessoa que antes de mais nada precisará entender o código.\n",
    "\n",
    "Para que isso seja feito, muitas são as técnicas, desde comentários em cabeçalhos ou funções, ou até mesmo entre os controladores, mas aqui traremos um ambiente em especial que o próprio Github nos dá para auxiliar nisso: o arquivo README.md. Esse é escrito em [Markdown](https://daringfireball.net/projects/markdown/basics), uma linguagem de marcação bastante comum e semelhante ao HTML, e é mostrado na página principal do repositório no GitHub. Por ele possuir esse destaque, é muito usado como leitura inicial do repositório. Algumas das coisas que recomendo que se escreva nele:\n",
    "    - O que o código faz;\n",
    "    - Como ele funciona;\n",
    "    - Como compilar e executar;\n",
    "    - Colaboradores.\n",
    "    \n",
    "São muitas as possibilidades, mas desde que nele haja o básico para que qualquer um possa usar o código em questão, isso já basta.\n"
   ]
  },
  {
   "cell_type": "markdown",
   "metadata": {},
   "source": [
    "## Comentários e atualizações de códigos\n",
    "\n",
    "Seguindo o mesmo princípio da documentação e informações básicas no README.md, escrever comentários nos códigos se torna essencial em alguns casos. Como cada programador é único em seu fluxo de raciocínio, explicar o funcionamento do código é importante para que não hajam dificuldades na hora de compartilhar o código, tendo como algumas vantagens:\n",
    "    - Velocidade na interpretação do funcionamento do código;\n",
    "    - Ágil detecção de bugs;\n",
    "    - Correção de bugs que evitam interferir em outras linhas de execução.\n",
    "    \n",
    "Por isso, estabeleça o padrão que preferir para organizar seu código e escreva comentários onde acreditar que seja necessário. Também use o bom senso e escolha onde escrever comentários, pois um programa com muitos comentários entre as linhas de código também não significa melhor compreensão. Na dúvida, sempre mostre o código a outros programamdores e, se necessário, explique um pouco do funcionamento dele, pois assim você terá ideia de onde pode melhorar a legibilidade do mesmo e onde acrescentar ou retirar comentários.\n",
    "\n",
    "Esta recomendação em especial também vale para alterações no código. Quando efetuamos um `git commit` temos um espaço reservado para comentar a alteração feita, espaço esse curto e, por isso, deve ser bem escrito. Mesmo assim, muitas vezes somente algumas palavras não bastam para explicar o que foi alterado e porque foi alterado. Por isso a própria plataforma GitHub tem um espaço reservado para discutir uma alteração.\n",
    "\n",
    "Para isso, clique no nome do commit do(s) arquivo(s), na página do repositório, logo ao lado do nome do arquivo; ou clique no botão \"commits\" logo abaixo do nome do repositório e depois no commit que desejar. Nesse espaço, no fim da página, há um local para enviar mensagens para aquele commit em especial, que pode ser escrito em Markdown, igualmente ao README.md. Use e abuse desse local para explicar tudo o que for preciso e abrir discussões sobre o mesmo.\n",
    "\n",
    "Mais uma recomendação que afeta justo a recomendação anterior é organizar cada `git commit` com seu respectivo arquivo. Ou seja, ao efetuar um `git add`, selecione os arquivos que deverão ficar juntos naquele mesmo `git commit`, assim alterações ficam organizadas e você poderá discutir exclusivamente sobre cada uma delas. Aqui também segue o bom senso para saber quais alterações são semelhantes entre si e quais merecem um `git commit` único.\n"
   ]
  },
  {
   "cell_type": "markdown",
   "metadata": {},
   "source": [
    "## Ignorando arquivos\n",
    "\n",
    "Principalmente ao ser trabalhar com IDEs ou afins, criamos arquivos na pasta de nosso repositório Git que não queremos que sejam enviados ao GitHub. Isso também ocorre caso façamos testes unitários, usemos algum sistema operacional em especial ou até mesmo se adicionamos arquivos-teste ao diretório. Para solução desse pequeno problema, o GitHub trabalha com um arquivo específico chamado \".gitignore\".\n",
    "\n",
    "Esse arquivo leva o nome de todos os arquivos que não devem ser adicionados na lista de alterações da varredura de arquivos do repositório Git. De uma maneira simples, ele faz com que os arquivos ali escritos fiquem invisíveis para o GitHub e não sejam enviados ao repositório na nuvem.\n",
    "\n",
    "Para usa-lo, crie um arquivo, nomeie-o como \".gitignore\" e envie-o ao repositório na nuvem como qualquer outro código. Nele, escreva o nome dos arquivos ou extensões que deseja que sejam ignorados. Sua formatação é simples:\n",
    "    - Comentários são precedidos de `#`;\n",
    "    - Uso de quebra de linha para fim de leitura;\n",
    "    - Escreva `nome_do_arquivo.extensão` para ignorar um arquivo;\n",
    "    - Escreva `nome_da_pasta/` para ignorar uma pasta;\n",
    "    - Escreva `*.extensão` para ignorar qualquer arquivo com aquela extensão.\n",
    "    \n",
    "Existem outras formatações que podem ser encontradas na [documentação](https://git-scm.com/docs/gitignore) oficial e, caso queira automatizar isso, pode usar diversos sites que auxiliam no processo de maneira muito simples, como o [gitignore.io](https://www.gitignore.io/).\n"
   ]
  },
  {
   "cell_type": "markdown",
   "metadata": {},
   "source": [
    "## Ramificação de código"
   ]
  }
 ],
 "metadata": {
  "kernelspec": {
   "display_name": "Bash",
   "language": "bash",
   "name": "bash"
  },
  "language_info": {
   "codemirror_mode": "shell",
   "file_extension": ".sh",
   "mimetype": "text/x-sh",
   "name": "bash"
  }
 },
 "nbformat": 4,
 "nbformat_minor": 2
}
