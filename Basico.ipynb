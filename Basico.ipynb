{
 "cells": [
  {
   "cell_type": "markdown",
   "metadata": {},
   "source": [
    "# Básico\n",
    "\n",
    "---\n",
    "\n",
    "## Estrutura do repositório: Local vs Cloud\n",
    "\n",
    "O GitHub é um sistema que hospeda o código no próprio servidor, permitindo que seja acessado via web e visualizado seus dados. Mas, de forma estrutural, edições feitas nos arquivos presentes no computador não são atualizadas automaticamente no sistema online, o que significa que seu funcionamento difere do DropBox ou Word Online, por exemplo. Desta forma, deve-se entender que, para cada alteração feita localmente, é necessário envia-las para o sistema online para que, assim, possam ser visualizadas por todos.\n",
    "De maneira simplificada, para manter uma visualização mais didática, vejamos um repositório GitHub como duas caixas de sapatos, onde os objetos presentes em uma caixa não interferem na outra a não ser que alguém assim o faça. Inicialmente, as duas caixas (caixa 1 e caixa 2) são iguais, ou seja, estão vazias. Ao adicionar um objeto dentro da caixa 1, para que a caixa 2 também tenha exatamente o mesmo objeto, é necessário que alguém veja qual objeto está na caixa 1, anote informações sobre aquele objeto e passe essas informações para a caixa 2. Logo após passar as informações para a caixa 2, ela terá o mesmo objeto com as mesmas informações passadas da caixa 1, assim tornando-as, nesse caso, novamente idênticas.\n",
    "Ou seja, para cada edição feita no computador, é necessário que se envie essa informação para o servidor, para, assim, os dados serem sincronizados."
   ]
  },
  {
   "cell_type": "markdown",
   "metadata": {},
   "source": [
    "## Iniciando repositórios\n",
    "\n",
    "De forma prática e rápida, a criação de um repositório ocorre no próprio site do GitHub, no símbolo de somatório (+) presente na aba superior direita, logo ao lado da miniatura do usuário conectado. Nesta página, adiciona-se um nome ao seu repositório, acrescido a uma descrição (opcional) rápida dele e marca-se a opção:\n",
    "\n",
    "> **Initialize this repository with a README** \n",
    "\n",
    "Assim, um novo repositório será criado com um arquivo inicial chamado README.md, que entraremos em mais detalhes na sessão \"[Documentação](BoasPraticas.ipynb)\". Com o repositório criado e lembrando da estrutura de repositório falada na sessão anterior, lembramos que o repositório criado só existe na nuvem, ou seja, ainda não está presente em seu dispositivo. Com isso, baixaremos esse repositório e automaticamente os sincronizaremos para que possam se comunicar. Para isso, clique na aba \"Clone or Download\", presente na parte direita da tela, pouco acima da lista de arquivos presentes em seu repositório. Agora, copie o link em SSH ou HTTPS que aparecer e abra o terminal na pasta que deseja salvar esse repositório que será baixado."
   ]
  },
  {
   "cell_type": "markdown",
   "metadata": {},
   "source": [
    "## Adição e edição de arquivos\n"
   ]
  },
  {
   "cell_type": "markdown",
   "metadata": {},
   "source": [
    "## Sincronização de repositórios\n"
   ]
  }
 ],
 "metadata": {
  "kernelspec": {
   "display_name": "Python 2",
   "language": "python",
   "name": "python2"
  },
  "language_info": {
   "codemirror_mode": {
    "name": "ipython",
    "version": 2
   },
   "file_extension": ".py",
   "mimetype": "text/x-python",
   "name": "python",
   "nbconvert_exporter": "python",
   "pygments_lexer": "ipython2",
   "version": "2.7.15"
  }
 },
 "nbformat": 4,
 "nbformat_minor": 2
}
