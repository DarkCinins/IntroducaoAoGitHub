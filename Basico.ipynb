{
 "cells": [
  {
   "cell_type": "markdown",
   "metadata": {},
   "source": [
    "# Básico\n",
    "\n",
    "---\n",
    "\n",
    "## Estrutura do repositório: Local vs Cloud\n",
    "\n",
    "O GitHub é um sistema que hospeda o código no próprio servidor, permitindo que seja acessado via web e visualizado seus dados. Mas, de forma estrutural, edições feitas nos arquivos presentes no computador não são atualizadas automaticamente no sistema online, o que significa que seu funcionamento difere do DropBox ou Word Online, por exemplo. Desta forma, deve-se entender que, para cada alteração feita localmente, é necessário envia-las para o sistema online para que, assim, possam ser visualizadas por todos.\n",
    "De maneira simplificada, para manter uma visualização mais didática, vejamos um repositório GitHub como duas caixas de sapatos, onde os objetos presentes em uma caixa não interferem na outra a não ser que alguém assim o faça. Inicialmente, as duas caixas (caixa 1 e caixa 2) são iguais, ou seja, estão vazias. Ao adicionar um objeto dentro da caixa 1, para que a caixa 2 também tenha exatamente o mesmo objeto, é necessário que alguém veja qual objeto está na caixa 1, anote informações sobre aquele objeto e passe essas informações para a caixa 2. Logo após passar as informações para a caixa 2, ela terá o mesmo objeto com as mesmas informações passadas da caixa 1, assim tornando-as, nesse caso, novamente idênticas.\n",
    "Ou seja, para cada edição feita no computador, é necessário que se envie essa informação para o servidor, para, assim, os dados serem sincronizados."
   ]
  },
  {
   "cell_type": "markdown",
   "metadata": {},
   "source": [
    "## Iniciando repositórios\n",
    "\n",
    "De forma prática e rápida, a criação de um repositório ocorre no próprio site do GitHub, no símbolo de somatório (+) presente na aba superior direita, logo ao lado da miniatura do usuário conectado. Nesta página, adiciona-se um nome ao seu repositório, acrescido a uma descrição (opcional) rápida dele e marca-se a opção:\n",
    "\n",
    "> **Initialize this repository with a README** \n",
    "\n",
    "Assim, um novo repositório será criado com um arquivo inicial chamado README.md, que entraremos em mais detalhes na sessão \"[Documentação](BoasPraticas.ipynb)\". Com o repositório criado e lembrando da estrutura de repositório falada na sessão anterior, lembramos que o repositório criado só existe na nuvem, ou seja, ainda não está presente em seu dispositivo. Com isso, baixaremos esse repositório e automaticamente os sincronizaremos para que possam se comunicar. Para isso, clique na aba \"Clone or Download\", presente na parte direita da tela, pouco acima da lista de arquivos presentes em seu repositório. Agora, copie o link em SSH ou HTTPS que aparecer e abra o terminal na pasta que deseja salvar esse repositório que será baixado. Logo em seguida, chamaremos o comando `git clone` para efetuar o procedimento e, por termos de didática, o link utilizado para exemplo será um link hipotético, criado somente para esse tutorial, ou seja, basta substituir este link pelo link de seu próprio repositório criado."
   ]
  },
  {
   "cell_type": "code",
   "execution_count": 20,
   "metadata": {},
   "outputs": [
    {
     "data": {
      "text/plain": [
       "Cloning into 'NovoRepositorio'...\r\n",
       "remote: Counting objects: 3, done.\u001b[K\r\n",
       "remote: Total 3 (delta 0), reused 0 (delta 0), pack-reused 0\u001b[K\r\n",
       "Receiving objects:  33% (1/3)   \r",
       "Receiving objects:  66% (2/3)   \r",
       "Receiving objects: 100% (3/3)   \r",
       "Receiving objects: 100% (3/3), done.\r\n",
       "Checking connectivity... done."
      ]
     },
     "execution_count": 20,
     "metadata": {},
     "output_type": "execute_result"
    }
   ],
   "source": [
    "git clone git@github.com:MateusBMP/NovoRepositorio.git"
   ]
  },
  {
   "cell_type": "markdown",
   "metadata": {},
   "source": [
    "Com esse comando, uma pasta de nome NovoRepositorio foi criada no mesmo diretório em que você se encontra, com os arquivos desse mesmo repositório e com quase tudo preparado para ser usado. Ou seja, o comando `git clone` faz uma cópia do repositório git em seu computador, permitindo agora a edição e atualização destes arquivos.\n",
    "Desta forma, primeiro acesse a pasta que acaba de ser criada, pasta essa que, no exemplo acima, seria:\n",
    "\n",
    "> _$ cd NovoRepositorio/_\n",
    "\n",
    "Agora, verificaremos como estão os dados do nosso repositório e, para isso, usaremos o comando `git status`. Esse comando, de forma resumida, compara os dados presentes no repositório local com os dados presentes no repositório na nuvem, mostrando as diferenças entre eles. Com isso, digite no terminal:"
   ]
  },
  {
   "cell_type": "code",
   "execution_count": 22,
   "metadata": {},
   "outputs": [
    {
     "data": {
      "text/plain": [
       "On branch master\r\n",
       "Your branch is up-to-date with 'origin/master'.\r\n",
       "nothing to commit, working directory clean"
      ]
     },
     "execution_count": 22,
     "metadata": {},
     "output_type": "execute_result"
    }
   ],
   "source": [
    "git status"
   ]
  },
  {
   "cell_type": "markdown",
   "metadata": {},
   "source": [
    "Para simplificar, a saída diz que estamos na área de trabalho chamada \"master\", essa área está atualizada com a nuvem e não há nenhuma atualização esperando para ser enviada e, por isso, a área de trabalho está limpa."
   ]
  },
  {
   "cell_type": "markdown",
   "metadata": {},
   "source": [
    "## Adição e edição de arquivos\n"
   ]
  },
  {
   "cell_type": "markdown",
   "metadata": {},
   "source": [
    "Agora, adicionaremos um novo arquivo a essa pasta. Para exemplo, criarei um arquivo chamado \"novoArquivo.txt\", com as seguintes linhas de texto escritas nele:\n",
    "\n",
    "> `Hello World.`\n",
    "\n",
    "Agora, salve esse arquivo e execute novamente o comando `git status`."
   ]
  },
  {
   "cell_type": "code",
   "execution_count": 23,
   "metadata": {},
   "outputs": [
    {
     "data": {
      "text/plain": [
       "On branch master\r\n",
       "Your branch is up-to-date with 'origin/master'.\r\n",
       "Untracked files:\r\n",
       "  (use \"git add <file>...\" to include in what will be committed)\r\n",
       "\r\n",
       "\t\u001b[31mnovoArquivo.txt\u001b[m\r\n",
       "\r\n",
       "nothing added to commit but untracked files present (use \"git add\" to track)"
      ]
     },
     "execution_count": 23,
     "metadata": {},
     "output_type": "execute_result"
    }
   ],
   "source": [
    "git status"
   ]
  },
  {
   "cell_type": "markdown",
   "metadata": {},
   "source": [
    "Veja que agora a mensagem, de forma simples, diz que há um novo arquivo não adicionado ao repositório, sendo o nome dele \"novoArquivo.txt\". Ela também diz que devemos usar o comando `git add` para adicionar o arquivo e, por isso, seguiremos para o pŕoximo passo, que será adicionar esse arquivo ao repositório git.\n",
    "Em cada área de trabalho há um cabeçalho destinado a armazenar as alterações feitas naquele local e uma referência em texto para cada uma delas. Toda vez que solicitamos que um arquivo seja armazenado na nuvem, na verdade enviamos esse cabeçalho com todas as informações. Por isso, deve-se adicionar o arquivo para a lista de alterações e, logo em seguida, escrever um comentário sobre a alteração feita nele.\n",
    "Desta forma, adicionaremos o arquivo nesse cabeçalho usando o comando `git add`."
   ]
  },
  {
   "cell_type": "code",
   "execution_count": 24,
   "metadata": {},
   "outputs": [
    {
     "data": {},
     "execution_count": 24,
     "metadata": {},
     "output_type": "execute_result"
    }
   ],
   "source": [
    "git add novoArquivo.txt"
   ]
  },
  {
   "cell_type": "markdown",
   "metadata": {},
   "source": [
    "Não se preocupe com a falta de saída desse comando, pois realmente não há nenhuma. Então, guardaremos essa informação com um comentário usando o comando`git commit -m`."
   ]
  },
  {
   "cell_type": "code",
   "execution_count": 25,
   "metadata": {},
   "outputs": [
    {
     "data": {
      "text/plain": [
       "[master 434edaf] Novo Arquivo adicionado ao repositório\r\n",
       " 1 file changed, 1 insertion(+)\r\n",
       " create mode 100644 novoArquivo.txt"
      ]
     },
     "execution_count": 25,
     "metadata": {},
     "output_type": "execute_result"
    }
   ],
   "source": [
    "git commit -m \"Novo Arquivo adicionado ao repositório\""
   ]
  },
  {
   "cell_type": "markdown",
   "metadata": {},
   "source": [
    "Como resposta, novamente de forma resumida, na área de trabalho \"master\" alteramos um arquivo adicionando uma linha a ele.\n",
    "O procedimento será o mesmo para alterações nos códigos ou textos escritos nos arquivos já adicionados, ou seja, usa-se o comando `git add` para adicionar o arquivo ao cabeçalho de alterações, depois escreve-se um comentário para a alteração usando o comando"
   ]
  },
  {
   "cell_type": "markdown",
   "metadata": {},
   "source": [
    "## Sincronização de repositórios\n"
   ]
  },
  {
   "cell_type": "markdown",
   "metadata": {},
   "source": [
    "Vejamos mais uma vez como está a situação do repositório usando o comando `git status`."
   ]
  },
  {
   "cell_type": "code",
   "execution_count": 26,
   "metadata": {},
   "outputs": [
    {
     "data": {
      "text/plain": [
       "On branch master\r\n",
       "Your branch is ahead of 'origin/master' by 1 commit.\r\n",
       "  (use \"git push\" to publish your local commits)\r\n",
       "nothing to commit, working directory clean"
      ]
     },
     "execution_count": 26,
     "metadata": {},
     "output_type": "execute_result"
    }
   ],
   "source": [
    "git status"
   ]
  },
  {
   "cell_type": "markdown",
   "metadata": {},
   "source": [
    "Veja que agora nosso repositório local está um comentário à frente do repositório na nuvem e sem nenhuma alteração necessária a ser listada no cabeçalho e, por isso, pede que usemos `git push` para enviar as alterações para o repositório no GitHub. Como tudo já está feito, basta executar o comando solicitado."
   ]
  },
  {
   "cell_type": "code",
   "execution_count": 27,
   "metadata": {},
   "outputs": [
    {
     "data": {
      "text/plain": [
       "Counting objects: 3, done.\r\n",
       "Delta compression using up to 4 threads.\r\n",
       "Compressing objects:  50% (1/2)   \r",
       "Compressing objects: 100% (2/2)   \r",
       "Compressing objects: 100% (2/2), done.\r\n",
       "Writing objects:  33% (1/3)   \r",
       "Writing objects:  66% (2/3)   \r",
       "Writing objects: 100% (3/3)   \r",
       "Writing objects: 100% (3/3), 318 bytes | 0 bytes/s, done.\r\n",
       "Total 3 (delta 0), reused 0 (delta 0)\r\n",
       "To git@github.com:MateusBMP/NovoRepositorio.git\r\n",
       "   692129e..434edaf  master -> master"
      ]
     },
     "execution_count": 27,
     "metadata": {},
     "output_type": "execute_result"
    }
   ],
   "source": [
    "git push"
   ]
  },
  {
   "cell_type": "markdown",
   "metadata": {},
   "source": [
    "Sem entrar em muitos detalhes, o texto diz que as alterações foram enviadas para o repositório \"NovoRepositorio\", na área de trabalho \"master\" e 100% de tudo que foi alterado conseguiu ser mesclado com os arquivos já presentes no repositório na nuvem."
   ]
  }
 ],
 "metadata": {
  "kernelspec": {
   "display_name": "MetaKernel Bash",
   "language": "bash",
   "name": "metakernel_bash"
  },
  "language_info": {
   "file_extension": ".sh",
   "help_links": [
    {
     "text": "MetaKernel Magics",
     "url": "https://github.com/calysto/metakernel/blob/master/metakernel/magics/README.md"
    }
   ],
   "mimetype": "text/x-bash",
   "name": "bash"
  }
 },
 "nbformat": 4,
 "nbformat_minor": 2
}
